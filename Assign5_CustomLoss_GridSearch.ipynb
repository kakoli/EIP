{
  "nbformat": 4,
  "nbformat_minor": 0,
  "metadata": {
    "colab": {
      "name": "Assign5_CustomLoss_GridSearch.ipynb",
      "version": "0.3.2",
      "provenance": [],
      "collapsed_sections": []
    },
    "kernelspec": {
      "name": "python3",
      "display_name": "Python 3"
    },
    "accelerator": "GPU"
  },
  "cells": [
    {
      "cell_type": "markdown",
      "metadata": {
        "id": "Q9aAeoiGWWrY",
        "colab_type": "text"
      },
      "source": [
        "####  **Import Libraries and modules**"
      ]
    },
    {
      "cell_type": "code",
      "metadata": {
        "id": "0SJyVpgSxHt4",
        "colab_type": "code",
        "outputId": "ade5cdc4-6093-4e2c-e2b7-538fb9ff7ccd",
        "colab": {
          "base_uri": "https://localhost:8080/",
          "height": 54
        }
      },
      "source": [
        "import numpy as np\n",
        "import keras\n",
        "\n",
        "from keras.models import Sequential\n",
        "from keras.layers import Dense, Dropout, Activation, Flatten, Add, BatchNormalization\n",
        "from keras.layers import Conv2D, MaxPooling2D, Activation\n",
        "from keras.utils import np_utils\n",
        "from keras.preprocessing.image import ImageDataGenerator\n",
        "from keras.optimizers import Adam, SGD\n",
        "from keras.callbacks import LearningRateScheduler, ModelCheckpoint, EarlyStopping\n",
        "from keras.wrappers.scikit_learn import KerasClassifier\n",
        "from sklearn.model_selection import GridSearchCV, RandomizedSearchCV\n",
        "from keras.datasets import mnist\n",
        "from keras import backend as K\n",
        "\n",
        "import time\n",
        "from matplotlib import pyplot as plt\n",
        "%matplotlib inline\n",
        "\n",
        "from google.colab import drive\n",
        "\n",
        "drive.mount('/content/gdrive')\n",
        "dir=\"/content/gdrive/My Drive/Colab Notebooks/EVA/Weights/Assign5/\"\n",
        "\n",
        "!ls"
      ],
      "execution_count": 21,
      "outputs": [
        {
          "output_type": "stream",
          "text": [
            "Drive already mounted at /content/gdrive; to attempt to forcibly remount, call drive.mount(\"/content/gdrive\", force_remount=True).\n",
            "gdrive\tsample_data\n"
          ],
          "name": "stdout"
        }
      ]
    },
    {
      "cell_type": "markdown",
      "metadata": {
        "id": "Bugf5EB4WaA2",
        "colab_type": "text"
      },
      "source": [
        "### Load pre-shuffled MNIST data into train and test sets\n",
        "Plotting a sample image from the dataset "
      ]
    },
    {
      "cell_type": "code",
      "metadata": {
        "id": "I6Y9Va-xxMXG",
        "colab_type": "code",
        "outputId": "dca6e24c-a953-45e0-e356-df793e398551",
        "colab": {
          "base_uri": "https://localhost:8080/",
          "height": 342
        }
      },
      "source": [
        "(x_train, y_train), (x_test, y_test) = mnist.load_data()\n",
        "print (x_train.shape)\n",
        "\n",
        "plt.imshow(x_train[1], cmap='gray')"
      ],
      "execution_count": 2,
      "outputs": [
        {
          "output_type": "stream",
          "text": [
            "Downloading data from https://s3.amazonaws.com/img-datasets/mnist.npz\n",
            "11493376/11490434 [==============================] - 0s 0us/step\n",
            "(60000, 28, 28)\n"
          ],
          "name": "stdout"
        },
        {
          "output_type": "execute_result",
          "data": {
            "text/plain": [
              "<matplotlib.image.AxesImage at 0x7fae68f435c0>"
            ]
          },
          "metadata": {
            "tags": []
          },
          "execution_count": 2
        },
        {
          "output_type": "display_data",
          "data": {
            "image/png": "[encoded data removed]",
            "text/plain": [
              "<Figure size 432x288 with 1 Axes>"
            ]
          },
          "metadata": {
            "tags": []
          }
        }
      ]
    },
    {
      "cell_type": "code",
      "metadata": {
        "id": "lxDZxPhhxOgO",
        "colab_type": "code",
        "colab": {}
      },
      "source": [
        "X_train = x_train.reshape(x_train.shape[0], 28, 28,1)\n",
        "X_test = x_test.reshape(x_test.shape[0], 28, 28,1)\n",
        "\n",
        "X_train = X_train.astype('float32')\n",
        "X_test = X_test.astype('float32')\n",
        "\n",
        "# Image standardisation\n",
        "X_train /= 255\n",
        "X_test /= 255"
      ],
      "execution_count": 0,
      "outputs": []
    },
    {
      "cell_type": "markdown",
      "metadata": {
        "id": "uoa5K7ynWpfq",
        "colab_type": "text"
      },
      "source": [
        "One hot encoding the labels from training and test set. Each 1d label is converted to 10d sparse matrix. Eg, digit 2 becomes [0., 0., 1., 0., 0., 0., 0., 0., 0., 0.]"
      ]
    },
    {
      "cell_type": "code",
      "metadata": {
        "id": "7LdYiW6ixR9e",
        "colab_type": "code",
        "outputId": "c16711d3-8881-45c6-f98e-04c89160faec",
        "colab": {
          "base_uri": "https://localhost:8080/",
          "height": 54
        }
      },
      "source": [
        "print(y_train[1])\n",
        "Y_train = np_utils.to_categorical(y_train, 10)\n",
        "Y_test = np_utils.to_categorical(y_test, 10)\n",
        "\n",
        "Y_train[1]"
      ],
      "execution_count": 12,
      "outputs": [
        {
          "output_type": "stream",
          "text": [
            "0\n"
          ],
          "name": "stdout"
        },
        {
          "output_type": "execute_result",
          "data": {
            "text/plain": [
              "array([1., 0., 0., 0., 0., 0., 0., 0., 0., 0.], dtype=float32)"
            ]
          },
          "metadata": {
            "tags": []
          },
          "execution_count": 12
        }
      ]
    },
    {
      "cell_type": "code",
      "metadata": {
        "id": "LumrLeKF065o",
        "colab_type": "code",
        "colab": {}
      },
      "source": [
        "m = X_train.shape[0]\n",
        "\n",
        "def custom_loss(custom_model, lamda):\n",
        "  model_layers = custom_model.layers # type list where each el is Conv2D obj etc.\n",
        "  #print(model_layers)\n",
        "  reg_wts = 0\n",
        "  \n",
        "  for idx, layer in enumerate(model_layers):\n",
        "    layer_wts = model_layers[idx].get_weights() # type list\n",
        "    #print(len(layer_wts), layer_wts)\n",
        "    \n",
        "    if len(layer_wts) > 0: # activation, dropout layers do not have any weights\n",
        "      layer_wts = model_layers[idx].get_weights()[0] #type ndarray, 3,3,1,16 : layer1 output\n",
        "      reg_wts += np.sum(layer_wts**2)\n",
        "      \n",
        "  print(\"Lambda: %f, Reg. loss: %f\" %(lamda, reg_wts) )   \n",
        "  reg_wts = reg_wts * (lamda/(2*m))\n",
        "      \n",
        "  def total_loss(y_true, y_pred):   \n",
        "    return K.categorical_crossentropy(y_true, y_pred) + reg_wts\n",
        "  \n",
        "  return total_loss     \n",
        "  "
      ],
      "execution_count": 0,
      "outputs": []
    },
    {
      "cell_type": "code",
      "metadata": {
        "colab_type": "code",
        "id": "bL3JTX3_c8-L",
        "colab": {}
      },
      "source": [
        "def build_model_with_param_lamda(lamda):\n",
        "  model = Sequential()\n",
        "\n",
        "  model.add(Conv2D(16, kernel_size=(3, 3), use_bias=False, input_shape=(28,28,1))) #26\n",
        "  model.add(BatchNormalization())\n",
        "  model.add(Activation('relu'))\n",
        "  model.add(Dropout(0.1))\n",
        "\n",
        "  model.add(Conv2D(32, (3, 3), use_bias=False)) #24\n",
        "  model.add(BatchNormalization())\n",
        "  model.add(Activation('relu'))\n",
        "  model.add(Dropout(0.1))\n",
        "\n",
        "  model.add(Conv2D(10, (1, 1), activation='relu', use_bias=False))\n",
        "  model.add(MaxPooling2D(pool_size=(2, 2)))#12\n",
        "\n",
        "  model.add(Conv2D(16, (3, 3), use_bias=False))#10\n",
        "  model.add(BatchNormalization())\n",
        "  model.add(Activation('relu'))\n",
        "  model.add(Dropout(0.1))\n",
        "\n",
        "  model.add(Conv2D(16, (3, 3), use_bias=False))#8\n",
        "  model.add(BatchNormalization())\n",
        "  model.add(Activation('relu'))\n",
        "  model.add(Dropout(0.1))\n",
        "\n",
        "  model.add(Conv2D(16, (3, 3), use_bias=False))#6\n",
        "  model.add(BatchNormalization())\n",
        "  model.add(Activation('relu'))\n",
        "  model.add(Dropout(0.1))\n",
        "\n",
        "  model.add(Conv2D(16, (3, 3), use_bias=False))#4\n",
        "  model.add(BatchNormalization())\n",
        "  model.add(Activation('relu'))\n",
        "  model.add(Dropout(0.1))\n",
        "\n",
        "  model.add(Conv2D(10, (4, 4))) \n",
        "\n",
        "  model.add(Flatten())\n",
        "  model.add(Activation('softmax'))\n",
        "  \n",
        "  model.compile(loss=custom_loss(model, lamda), optimizer='adam', metrics=['accuracy']) \n",
        "  \n",
        "  return model"
      ],
      "execution_count": 0,
      "outputs": []
    },
    {
      "cell_type": "markdown",
      "metadata": {
        "id": "tYKki0i88_U3",
        "colab_type": "text"
      },
      "source": [
        "#### Grid search for custom_loss parameter lambda\n",
        "lamda=0.006 is best"
      ]
    },
    {
      "cell_type": "code",
      "metadata": {
        "id": "xA37fJFR2JqH",
        "colab_type": "code",
        "colab": {
          "base_uri": "https://localhost:8080/",
          "height": 698
        },
        "outputId": "5c5d58a7-c0eb-4fdc-cad3-c83ed78ae32a"
      },
      "source": [
        "keras_model = KerasClassifier(build_fn=build_model_with_param_lamda, epochs=50, batch_size=128, verbose=0)\n",
        "\n",
        "# define the grid search parameters\n",
        "lamda = [0.006, 0.008, 0.01, 0.02]\n",
        "param_dist = dict(lamda=lamda)\n",
        "\n",
        "grid_search = GridSearchCV(estimator=keras_model, param_grid=param_dist, n_jobs=-1)\n",
        "print(\"GridSearch created\")\n",
        "start = time.time()\n",
        "grid_search.fit(X_train, Y_train)\n",
        "print(\"GridSearchCV took %.2f seconds\"\n",
        "      \" parameter settings.\" % ((time.time() - start)))\n",
        "\n",
        "# Show the results\n",
        "print(\"Best score: %f using %s\" % (grid_search.best_score_, grid_search.best_params_))\n",
        "print()\n",
        "\n",
        "means = grid_search.cv_results_['mean_test_score']\n",
        "stds = grid_search.cv_results_['std_test_score']\n",
        "params = grid_search.cv_results_['params']\n",
        "for mean, stdev, param in zip(means, stds, params):\n",
        "    print(\"%f (%f) with: %r\" % (mean, stdev, param))\n",
        "    \n",
        "score = grid_search.score(X_train, Y_train)\n",
        "print(score)\n",
        "\n",
        "# all_train, all_test = list(), list()\n",
        "# all_train.append(train_acc)\n",
        "# all_test.append(test_acc)\n",
        "# plot train and test means\n",
        "# plt.plot(values, all_train, label='train', marker='o')\n",
        "# plt.plot(values, all_test, label='test', marker='o')\n",
        "# plt.legend()\n",
        "# plt.show()"
      ],
      "execution_count": 10,
      "outputs": [
        {
          "output_type": "stream",
          "text": [
            "GridSearch created\n"
          ],
          "name": "stdout"
        },
        {
          "output_type": "stream",
          "text": [
            "/usr/local/lib/python3.6/dist-packages/sklearn/model_selection/_split.py:1978: FutureWarning: The default value of cv will change from 3 to 5 in version 0.22. Specify it explicitly to silence this warning.\n",
            "  warnings.warn(CV_WARNING, FutureWarning)\n",
            "/usr/local/lib/python3.6/dist-packages/joblib/externals/loky/process_executor.py:706: UserWarning: A worker stopped while some jobs were given to the executor. This can be caused by a too short worker timeout or by a memory leak.\n",
            "  \"timeout or by a memory leak.\", UserWarning\n",
            "WARNING: Logging before flag parsing goes to stderr.\n",
            "W0904 10:15:10.215602 140388723337088 deprecation_wrapper.py:119] From /usr/local/lib/python3.6/dist-packages/keras/backend/tensorflow_backend.py:66: The name tf.get_default_graph is deprecated. Please use tf.compat.v1.get_default_graph instead.\n",
            "\n",
            "W0904 10:15:10.241031 140388723337088 deprecation_wrapper.py:119] From /usr/local/lib/python3.6/dist-packages/keras/backend/tensorflow_backend.py:541: The name tf.placeholder is deprecated. Please use tf.compat.v1.placeholder instead.\n",
            "\n",
            "W0904 10:15:10.245853 140388723337088 deprecation_wrapper.py:119] From /usr/local/lib/python3.6/dist-packages/keras/backend/tensorflow_backend.py:4432: The name tf.random_uniform is deprecated. Please use tf.random.uniform instead.\n",
            "\n",
            "W0904 10:15:10.290861 140388723337088 deprecation_wrapper.py:119] From /usr/local/lib/python3.6/dist-packages/keras/backend/tensorflow_backend.py:190: The name tf.get_default_session is deprecated. Please use tf.compat.v1.get_default_session instead.\n",
            "\n",
            "W0904 10:15:10.292107 140388723337088 deprecation_wrapper.py:119] From /usr/local/lib/python3.6/dist-packages/keras/backend/tensorflow_backend.py:197: The name tf.ConfigProto is deprecated. Please use tf.compat.v1.ConfigProto instead.\n",
            "\n",
            "W0904 10:15:10.800428 140388723337088 deprecation_wrapper.py:119] From /usr/local/lib/python3.6/dist-packages/keras/backend/tensorflow_backend.py:2041: The name tf.nn.fused_batch_norm is deprecated. Please use tf.compat.v1.nn.fused_batch_norm instead.\n",
            "\n",
            "W0904 10:15:10.890008 140388723337088 deprecation.py:506] From /usr/local/lib/python3.6/dist-packages/keras/backend/tensorflow_backend.py:3733: calling dropout (from tensorflow.python.ops.nn_ops) with keep_prob is deprecated and will be removed in a future version.\n",
            "Instructions for updating:\n",
            "Please use `rate` instead of `keep_prob`. Rate should be set to `rate = 1 - keep_prob`.\n",
            "W0904 10:15:11.027540 140388723337088 deprecation_wrapper.py:119] From /usr/local/lib/python3.6/dist-packages/keras/backend/tensorflow_backend.py:4267: The name tf.nn.max_pool is deprecated. Please use tf.nn.max_pool2d instead.\n",
            "\n",
            "W0904 10:15:11.779885 140388723337088 deprecation_wrapper.py:119] From /usr/local/lib/python3.6/dist-packages/keras/optimizers.py:793: The name tf.train.Optimizer is deprecated. Please use tf.compat.v1.train.Optimizer instead.\n",
            "\n"
          ],
          "name": "stderr"
        },
        {
          "output_type": "stream",
          "text": [
            "Lambda: 0.006000, Reg. loss: 223.272539\n"
          ],
          "name": "stdout"
        },
        {
          "output_type": "stream",
          "text": [
            "W0904 10:15:12.074058 140388723337088 deprecation.py:323] From /usr/local/lib/python3.6/dist-packages/tensorflow/python/ops/math_grad.py:1250: add_dispatch_support.<locals>.wrapper (from tensorflow.python.ops.array_ops) is deprecated and will be removed in a future version.\n",
            "Instructions for updating:\n",
            "Use tf.where in 2.0, which has the same broadcast rule as np.where\n"
          ],
          "name": "stderr"
        },
        {
          "output_type": "stream",
          "text": [
            "GridSearchCV took 4236.49 seconds parameter settings.\n",
            "Best score: 0.992467 using {'lamda': 0.006}\n",
            "0.992467 (0.000239) with: {'lamda': 0.006}\n",
            "0.991083 (0.000572) with: {'lamda': 0.008}\n",
            "0.991583 (0.001592) with: {'lamda': 0.01}\n",
            "0.991683 (0.000419) with: {'lamda': 0.02}\n",
            "0.9985333333015441\n"
          ],
          "name": "stdout"
        }
      ]
    },
    {
      "cell_type": "code",
      "metadata": {
        "colab_type": "code",
        "id": "DewXJhfhAE9H",
        "colab": {}
      },
      "source": [
        "def build_model_with_param_lr(learn_rate):\n",
        "  print(\"Learning rate\", learn_rate)\n",
        "  model = Sequential()\n",
        "\n",
        "  model.add(Conv2D(16, kernel_size=(3, 3), use_bias=False, input_shape=(28,28,1))) #26\n",
        "  model.add(BatchNormalization())\n",
        "  model.add(Activation('relu'))\n",
        "  model.add(Dropout(0.1))\n",
        "\n",
        "  model.add(Conv2D(32, (3, 3), use_bias=False)) #24\n",
        "  model.add(BatchNormalization())\n",
        "  model.add(Activation('relu'))\n",
        "  model.add(Dropout(0.1))\n",
        "\n",
        "  model.add(Conv2D(10, (1, 1), activation='relu', use_bias=False))\n",
        "  model.add(MaxPooling2D(pool_size=(2, 2)))#12\n",
        "\n",
        "  model.add(Conv2D(16, (3, 3), use_bias=False))#10\n",
        "  model.add(BatchNormalization())\n",
        "  model.add(Activation('relu'))\n",
        "  model.add(Dropout(0.1))\n",
        "\n",
        "  model.add(Conv2D(16, (3, 3), use_bias=False))#8\n",
        "  model.add(BatchNormalization())\n",
        "  model.add(Activation('relu'))\n",
        "  model.add(Dropout(0.1))\n",
        "\n",
        "  model.add(Conv2D(16, (3, 3), use_bias=False))#6\n",
        "  model.add(BatchNormalization())\n",
        "  model.add(Activation('relu'))\n",
        "  model.add(Dropout(0.1))\n",
        "\n",
        "  model.add(Conv2D(16, (3, 3), use_bias=False))#4\n",
        "  model.add(BatchNormalization())\n",
        "  model.add(Activation('relu'))\n",
        "  model.add(Dropout(0.1))\n",
        "\n",
        "  model.add(Conv2D(10, (4, 4))) \n",
        "\n",
        "  model.add(Flatten())\n",
        "  model.add(Activation('softmax'))\n",
        "  \n",
        "  optimizer = Adam(lr=learn_rate)\n",
        "  model.compile(loss='categorical_crossentropy', optimizer=optimizer, metrics=['accuracy'])\n",
        "  \n",
        "  return model"
      ],
      "execution_count": 0,
      "outputs": []
    },
    {
      "cell_type": "markdown",
      "metadata": {
        "id": "qW-rCnprupym",
        "colab_type": "text"
      },
      "source": [
        "#### Randomized search values for optimizer parameter 'lr'"
      ]
    },
    {
      "cell_type": "code",
      "metadata": {
        "colab_type": "code",
        "outputId": "4f074549-c26e-4c85-a1cc-221eb7674518",
        "id": "-31hmprBujb6",
        "colab": {
          "base_uri": "https://localhost:8080/",
          "height": 313
        }
      },
      "source": [
        "keras_model = KerasClassifier(build_fn=build_model_with_param_lr, epochs=50, batch_size=128, verbose=0)\n",
        "\n",
        "# define the random search parameters\n",
        "learn_rate = [0.0005, 0.0007, 0.001, 0.002, 0.003]\n",
        "\n",
        "param_dist = dict(learn_rate=learn_rate)\n",
        "\n",
        "random_search = RandomizedSearchCV(estimator=keras_model, param_distributions=param_dist,\n",
        "                                   n_jobs=-1, iid=False)\n",
        "\n",
        "print(\"Starting random search training\")\n",
        "start = time.time()\n",
        "random_search.fit(X_train, Y_train)\n",
        "print(\"RandomizedSearchCV took %.2f seconds\"\n",
        "      \" parameter settings.\" % ((time.time() - start)))\n",
        "\n",
        "# Show the results\n",
        "print(\"Best score: %f using %s\" % (random_search.best_score_, random_search.best_params_))\n",
        "print()\n",
        "\n",
        "means = random_search.cv_results_['mean_test_score']\n",
        "stds = random_search.cv_results_['std_test_score']\n",
        "params = random_search.cv_results_['params']\n",
        "for mean, stdev, param in zip(means, stds, params):\n",
        "    print(\"%f (%f) with: %r\" % (mean, stdev, param))"
      ],
      "execution_count": 14,
      "outputs": [
        {
          "output_type": "stream",
          "text": [
            "Starting random search training\n"
          ],
          "name": "stdout"
        },
        {
          "output_type": "stream",
          "text": [
            "/usr/local/lib/python3.6/dist-packages/sklearn/model_selection/_split.py:1978: FutureWarning: The default value of cv will change from 3 to 5 in version 0.22. Specify it explicitly to silence this warning.\n",
            "  warnings.warn(CV_WARNING, FutureWarning)\n",
            "/usr/local/lib/python3.6/dist-packages/sklearn/model_selection/_search.py:266: UserWarning: The total space of parameters 5 is smaller than n_iter=10. Running 5 iterations. For exhaustive searches, use GridSearchCV.\n",
            "  % (grid_size, self.n_iter, grid_size), UserWarning)\n",
            "/usr/local/lib/python3.6/dist-packages/joblib/externals/loky/process_executor.py:706: UserWarning: A worker stopped while some jobs were given to the executor. This can be caused by a too short worker timeout or by a memory leak.\n",
            "  \"timeout or by a memory leak.\", UserWarning\n"
          ],
          "name": "stderr"
        },
        {
          "output_type": "stream",
          "text": [
            "Learning rate 0.0005\n",
            "RandomizedSearchCV took 5057.05 seconds parameter settings.\n",
            "Best score: 0.992517 using {'learn_rate': 0.0005}\n",
            "0.992517 (0.000290) with: {'learn_rate': 0.0005}\n",
            "0.991517 (0.000779) with: {'learn_rate': 0.0007}\n",
            "0.991267 (0.000193) with: {'learn_rate': 0.001}\n",
            "0.991900 (0.000816) with: {'learn_rate': 0.002}\n",
            "0.991350 (0.000579) with: {'learn_rate': 0.003}\n"
          ],
          "name": "stdout"
        }
      ]
    },
    {
      "cell_type": "code",
      "metadata": {
        "id": "teKaribXnrEb",
        "colab_type": "code",
        "outputId": "16dfc483-2dac-41c4-c7ca-9cb520ab5187",
        "colab": {
          "base_uri": "https://localhost:8080/",
          "height": 54
        }
      },
      "source": [
        "import sklearn\n",
        "print(sklearn.__version__)\n",
        "print(keras.__version__)"
      ],
      "execution_count": 0,
      "outputs": [
        {
          "output_type": "stream",
          "text": [
            "0.21.3\n",
            "2.2.5\n"
          ],
          "name": "stdout"
        }
      ]
    },
    {
      "cell_type": "markdown",
      "metadata": {
        "id": "Dc6n_kfexx0e",
        "colab_type": "text"
      },
      "source": [
        "#### Passing callback to keras classifier wrapper for scikit-learn - done for checkpoint, but the variable monitored could be only training accuracy or loss. Hence was not useful."
      ]
    },
    {
      "cell_type": "code",
      "metadata": {
        "id": "YSg0kSSqvcCK",
        "colab_type": "code",
        "outputId": "34be9eb2-5ba3-4d7f-863d-1396c7240bf1",
        "colab": {
          "base_uri": "https://localhost:8080/",
          "height": 1000
        }
      },
      "source": [
        "filepath = dir + \"GridSearch-{epoch:02d}-{acc:.4f}.hdf5\"\n",
        "#checkpoint = ModelCheckpoint(filepath, monitor='acc', verbose=1, save_best_only=True, period=2, mode='max')\n",
        "early_stopper = EarlyStopping(monitor='val_loss', patience=10)\n",
        "keras_model = KerasClassifier(build_fn=build_model_with_param_lr, epochs=50, batch_size=128, verbose=0, \n",
        "                              callbacks=[early_stopper])\n",
        "\n",
        "# define the grid search parameters\n",
        "learn_rate = [0.0001, 0.0003, 0.0005, 0.0007, 0.0009]\n",
        "param_dist = dict(learn_rate=learn_rate)\n",
        "\n",
        "grid_search = GridSearchCV(estimator=keras_model, param_grid=param_dist, verbose=1,\n",
        "                           iid=False, n_jobs=-1)\n",
        "\n",
        "print(\"Starting grid search training\")\n",
        "\n",
        "start = time.time()\n",
        "#grid_search.fit(X_train, Y_train, callbacks=[checkpoint])\n",
        "grid_search.fit(X_train, Y_train)\n",
        "print(\"GridSearchCV took %.2f seconds\"\n",
        "      \" parameter settings.\" % ((time.time() - start)))\n",
        "\n",
        "# Show the results\n",
        "print(\"Best score: %f using %s\" % (grid_search.best_score_, grid_search.best_params_))\n"
      ],
      "execution_count": 0,
      "outputs": [
        {
          "output_type": "stream",
          "text": [
            "Starting grid search training\n",
            "Fitting 3 folds for each of 5 candidates, totalling 15 fits\n"
          ],
          "name": "stdout"
        },
        {
          "output_type": "stream",
          "text": [
            "/usr/local/lib/python3.6/dist-packages/sklearn/model_selection/_split.py:1978: FutureWarning: The default value of cv will change from 3 to 5 in version 0.22. Specify it explicitly to silence this warning.\n",
            "  warnings.warn(CV_WARNING, FutureWarning)\n",
            "[Parallel(n_jobs=-1)]: Using backend LokyBackend with 2 concurrent workers.\n",
            "/usr/local/lib/python3.6/dist-packages/joblib/externals/loky/process_executor.py:706: UserWarning: A worker stopped while some jobs were given to the executor. This can be caused by a too short worker timeout or by a memory leak.\n",
            "  \"timeout or by a memory leak.\", UserWarning\n",
            "[Parallel(n_jobs=-1)]: Done  15 out of  15 | elapsed: 77.4min finished\n",
            "WARNING: Logging before flag parsing goes to stderr.\n",
            "W0901 19:20:44.615673 140489569757056 deprecation_wrapper.py:119] From /usr/local/lib/python3.6/dist-packages/keras/backend/tensorflow_backend.py:66: The name tf.get_default_graph is deprecated. Please use tf.compat.v1.get_default_graph instead.\n",
            "\n",
            "W0901 19:20:44.641700 140489569757056 deprecation_wrapper.py:119] From /usr/local/lib/python3.6/dist-packages/keras/backend/tensorflow_backend.py:541: The name tf.placeholder is deprecated. Please use tf.compat.v1.placeholder instead.\n",
            "\n",
            "W0901 19:20:44.645416 140489569757056 deprecation_wrapper.py:119] From /usr/local/lib/python3.6/dist-packages/keras/backend/tensorflow_backend.py:4432: The name tf.random_uniform is deprecated. Please use tf.random.uniform instead.\n",
            "\n",
            "W0901 19:20:44.686624 140489569757056 deprecation_wrapper.py:119] From /usr/local/lib/python3.6/dist-packages/keras/backend/tensorflow_backend.py:190: The name tf.get_default_session is deprecated. Please use tf.compat.v1.get_default_session instead.\n",
            "\n",
            "W0901 19:20:44.688248 140489569757056 deprecation_wrapper.py:119] From /usr/local/lib/python3.6/dist-packages/keras/backend/tensorflow_backend.py:197: The name tf.ConfigProto is deprecated. Please use tf.compat.v1.ConfigProto instead.\n",
            "\n"
          ],
          "name": "stderr"
        },
        {
          "output_type": "stream",
          "text": [
            "Learning rate 0.0007\n"
          ],
          "name": "stdout"
        },
        {
          "output_type": "stream",
          "text": [
            "W0901 19:20:45.447993 140489569757056 deprecation_wrapper.py:119] From /usr/local/lib/python3.6/dist-packages/keras/backend/tensorflow_backend.py:2041: The name tf.nn.fused_batch_norm is deprecated. Please use tf.compat.v1.nn.fused_batch_norm instead.\n",
            "\n",
            "W0901 19:20:45.592709 140489569757056 deprecation.py:506] From /usr/local/lib/python3.6/dist-packages/keras/backend/tensorflow_backend.py:3733: calling dropout (from tensorflow.python.ops.nn_ops) with keep_prob is deprecated and will be removed in a future version.\n",
            "Instructions for updating:\n",
            "Please use `rate` instead of `keep_prob`. Rate should be set to `rate = 1 - keep_prob`.\n",
            "W0901 19:20:45.813680 140489569757056 deprecation_wrapper.py:119] From /usr/local/lib/python3.6/dist-packages/keras/backend/tensorflow_backend.py:4267: The name tf.nn.max_pool is deprecated. Please use tf.nn.max_pool2d instead.\n",
            "\n",
            "W0901 19:20:46.675599 140489569757056 deprecation_wrapper.py:119] From /usr/local/lib/python3.6/dist-packages/keras/optimizers.py:793: The name tf.train.Optimizer is deprecated. Please use tf.compat.v1.train.Optimizer instead.\n",
            "\n",
            "W0901 19:20:46.801595 140489569757056 deprecation.py:323] From /usr/local/lib/python3.6/dist-packages/tensorflow/python/ops/math_grad.py:1250: add_dispatch_support.<locals>.wrapper (from tensorflow.python.ops.array_ops) is deprecated and will be removed in a future version.\n",
            "Instructions for updating:\n",
            "Use tf.where in 2.0, which has the same broadcast rule as np.where\n"
          ],
          "name": "stderr"
        },
        {
          "output_type": "stream",
          "text": [
            "Epoch 1/50\n",
            "60000/60000 [==============================] - 12s 204us/step - loss: 0.4975 - acc: 0.8523\n",
            "\n",
            "Epoch 00001: acc improved from -inf to 0.85230, saving model to /content/gdrive/My Drive/Colab Notebooks/EVA/Weights/Assign5/GridSearch-01-0.8523.hdf5\n",
            "Epoch 2/50\n",
            "60000/60000 [==============================] - 10s 168us/step - loss: 0.1046 - acc: 0.9688\n",
            "\n",
            "Epoch 00002: acc improved from 0.85230 to 0.96882, saving model to /content/gdrive/My Drive/Colab Notebooks/EVA/Weights/Assign5/GridSearch-02-0.9688.hdf5\n",
            "Epoch 3/50\n",
            "60000/60000 [==============================] - 10s 170us/step - loss: 0.0736 - acc: 0.9781\n",
            "\n",
            "Epoch 00003: acc improved from 0.96882 to 0.97808, saving model to /content/gdrive/My Drive/Colab Notebooks/EVA/Weights/Assign5/GridSearch-03-0.9781.hdf5\n",
            "Epoch 4/50\n",
            "60000/60000 [==============================] - 10s 170us/step - loss: 0.0584 - acc: 0.9820\n",
            "\n",
            "Epoch 00004: acc improved from 0.97808 to 0.98200, saving model to /content/gdrive/My Drive/Colab Notebooks/EVA/Weights/Assign5/GridSearch-04-0.9820.hdf5\n",
            "Epoch 5/50\n",
            "60000/60000 [==============================] - 10s 169us/step - loss: 0.0524 - acc: 0.9839\n",
            "\n",
            "Epoch 00005: acc improved from 0.98200 to 0.98392, saving model to /content/gdrive/My Drive/Colab Notebooks/EVA/Weights/Assign5/GridSearch-05-0.9839.hdf5\n",
            "Epoch 6/50\n",
            "60000/60000 [==============================] - 10s 169us/step - loss: 0.0458 - acc: 0.9854\n",
            "\n",
            "Epoch 00006: acc improved from 0.98392 to 0.98538, saving model to /content/gdrive/My Drive/Colab Notebooks/EVA/Weights/Assign5/GridSearch-06-0.9854.hdf5\n",
            "Epoch 7/50\n",
            "60000/60000 [==============================] - 10s 168us/step - loss: 0.0428 - acc: 0.9867\n",
            "\n",
            "Epoch 00007: acc improved from 0.98538 to 0.98667, saving model to /content/gdrive/My Drive/Colab Notebooks/EVA/Weights/Assign5/GridSearch-07-0.9867.hdf5\n",
            "Epoch 8/50\n",
            "60000/60000 [==============================] - 10s 168us/step - loss: 0.0397 - acc: 0.9874\n",
            "\n",
            "Epoch 00008: acc improved from 0.98667 to 0.98738, saving model to /content/gdrive/My Drive/Colab Notebooks/EVA/Weights/Assign5/GridSearch-08-0.9874.hdf5\n",
            "Epoch 9/50\n",
            "60000/60000 [==============================] - 10s 170us/step - loss: 0.0385 - acc: 0.9877\n",
            "\n",
            "Epoch 00009: acc improved from 0.98738 to 0.98773, saving model to /content/gdrive/My Drive/Colab Notebooks/EVA/Weights/Assign5/GridSearch-09-0.9877.hdf5\n",
            "Epoch 10/50\n",
            "60000/60000 [==============================] - 10s 169us/step - loss: 0.0348 - acc: 0.9892\n",
            "\n",
            "Epoch 00010: acc improved from 0.98773 to 0.98923, saving model to /content/gdrive/My Drive/Colab Notebooks/EVA/Weights/Assign5/GridSearch-10-0.9892.hdf5\n",
            "Epoch 11/50\n",
            "60000/60000 [==============================] - 10s 167us/step - loss: 0.0347 - acc: 0.9889\n",
            "\n",
            "Epoch 00011: acc did not improve from 0.98923\n",
            "Epoch 12/50\n",
            "60000/60000 [==============================] - 10s 166us/step - loss: 0.0308 - acc: 0.9897\n",
            "\n",
            "Epoch 00012: acc improved from 0.98923 to 0.98975, saving model to /content/gdrive/My Drive/Colab Notebooks/EVA/Weights/Assign5/GridSearch-12-0.9897.hdf5\n",
            "Epoch 13/50\n",
            "60000/60000 [==============================] - 10s 167us/step - loss: 0.0313 - acc: 0.9900\n",
            "\n",
            "Epoch 00013: acc improved from 0.98975 to 0.98997, saving model to /content/gdrive/My Drive/Colab Notebooks/EVA/Weights/Assign5/GridSearch-13-0.9900.hdf5\n",
            "Epoch 14/50\n",
            "60000/60000 [==============================] - 10s 171us/step - loss: 0.0296 - acc: 0.9907\n",
            "\n",
            "Epoch 00014: acc improved from 0.98997 to 0.99068, saving model to /content/gdrive/My Drive/Colab Notebooks/EVA/Weights/Assign5/GridSearch-14-0.9907.hdf5\n",
            "Epoch 15/50\n",
            "60000/60000 [==============================] - 10s 169us/step - loss: 0.0289 - acc: 0.9909\n",
            "\n",
            "Epoch 00015: acc improved from 0.99068 to 0.99092, saving model to /content/gdrive/My Drive/Colab Notebooks/EVA/Weights/Assign5/GridSearch-15-0.9909.hdf5\n",
            "Epoch 16/50\n",
            "60000/60000 [==============================] - 10s 169us/step - loss: 0.0278 - acc: 0.9910\n",
            "\n",
            "Epoch 00016: acc improved from 0.99092 to 0.99102, saving model to /content/gdrive/My Drive/Colab Notebooks/EVA/Weights/Assign5/GridSearch-16-0.9910.hdf5\n",
            "Epoch 17/50\n",
            "60000/60000 [==============================] - 10s 169us/step - loss: 0.0274 - acc: 0.9910\n",
            "\n",
            "Epoch 00017: acc did not improve from 0.99102\n",
            "Epoch 18/50\n",
            "60000/60000 [==============================] - 10s 168us/step - loss: 0.0262 - acc: 0.9914\n",
            "\n",
            "Epoch 00018: acc improved from 0.99102 to 0.99145, saving model to /content/gdrive/My Drive/Colab Notebooks/EVA/Weights/Assign5/GridSearch-18-0.9914.hdf5\n",
            "Epoch 19/50\n",
            "60000/60000 [==============================] - 10s 168us/step - loss: 0.0252 - acc: 0.9919\n",
            "\n",
            "Epoch 00019: acc improved from 0.99145 to 0.99190, saving model to /content/gdrive/My Drive/Colab Notebooks/EVA/Weights/Assign5/GridSearch-19-0.9919.hdf5\n",
            "Epoch 20/50\n",
            "60000/60000 [==============================] - 10s 169us/step - loss: 0.0257 - acc: 0.9922\n",
            "\n",
            "Epoch 00020: acc improved from 0.99190 to 0.99222, saving model to /content/gdrive/My Drive/Colab Notebooks/EVA/Weights/Assign5/GridSearch-20-0.9922.hdf5\n",
            "Epoch 21/50\n",
            "60000/60000 [==============================] - 10s 168us/step - loss: 0.0244 - acc: 0.9922\n",
            "\n",
            "Epoch 00021: acc did not improve from 0.99222\n",
            "Epoch 22/50\n",
            "60000/60000 [==============================] - 10s 169us/step - loss: 0.0230 - acc: 0.9927\n",
            "\n",
            "Epoch 00022: acc improved from 0.99222 to 0.99267, saving model to /content/gdrive/My Drive/Colab Notebooks/EVA/Weights/Assign5/GridSearch-22-0.9927.hdf5\n",
            "Epoch 23/50\n",
            "60000/60000 [==============================] - 10s 171us/step - loss: 0.0225 - acc: 0.9928\n",
            "\n",
            "Epoch 00023: acc improved from 0.99267 to 0.99278, saving model to /content/gdrive/My Drive/Colab Notebooks/EVA/Weights/Assign5/GridSearch-23-0.9928.hdf5\n",
            "Epoch 24/50\n",
            "60000/60000 [==============================] - 10s 169us/step - loss: 0.0221 - acc: 0.9926\n",
            "\n",
            "Epoch 00024: acc did not improve from 0.99278\n",
            "Epoch 25/50\n",
            "60000/60000 [==============================] - 10s 169us/step - loss: 0.0235 - acc: 0.9924\n",
            "\n",
            "Epoch 00025: acc did not improve from 0.99278\n",
            "Epoch 26/50\n",
            "60000/60000 [==============================] - 10s 169us/step - loss: 0.0217 - acc: 0.9929\n",
            "\n",
            "Epoch 00026: acc improved from 0.99278 to 0.99293, saving model to /content/gdrive/My Drive/Colab Notebooks/EVA/Weights/Assign5/GridSearch-26-0.9929.hdf5\n",
            "Epoch 27/50\n",
            "60000/60000 [==============================] - 10s 168us/step - loss: 0.0203 - acc: 0.9933\n",
            "\n",
            "Epoch 00027: acc improved from 0.99293 to 0.99327, saving model to /content/gdrive/My Drive/Colab Notebooks/EVA/Weights/Assign5/GridSearch-27-0.9933.hdf5\n",
            "Epoch 28/50\n",
            "60000/60000 [==============================] - 10s 169us/step - loss: 0.0198 - acc: 0.9934\n",
            "\n",
            "Epoch 00028: acc improved from 0.99327 to 0.99342, saving model to /content/gdrive/My Drive/Colab Notebooks/EVA/Weights/Assign5/GridSearch-28-0.9934.hdf5\n",
            "Epoch 29/50\n",
            "60000/60000 [==============================] - 10s 169us/step - loss: 0.0197 - acc: 0.9936\n",
            "\n",
            "Epoch 00029: acc improved from 0.99342 to 0.99363, saving model to /content/gdrive/My Drive/Colab Notebooks/EVA/Weights/Assign5/GridSearch-29-0.9936.hdf5\n",
            "Epoch 30/50\n",
            "60000/60000 [==============================] - 10s 169us/step - loss: 0.0197 - acc: 0.9934\n",
            "\n",
            "Epoch 00030: acc did not improve from 0.99363\n",
            "Epoch 31/50\n",
            "60000/60000 [==============================] - 10s 168us/step - loss: 0.0205 - acc: 0.9935\n",
            "\n",
            "Epoch 00031: acc did not improve from 0.99363\n",
            "Epoch 32/50\n",
            "60000/60000 [==============================] - 10s 168us/step - loss: 0.0182 - acc: 0.9940\n",
            "\n",
            "Epoch 00032: acc improved from 0.99363 to 0.99397, saving model to /content/gdrive/My Drive/Colab Notebooks/EVA/Weights/Assign5/GridSearch-32-0.9940.hdf5\n",
            "Epoch 33/50\n",
            "60000/60000 [==============================] - 10s 170us/step - loss: 0.0180 - acc: 0.9942\n",
            "\n",
            "Epoch 00033: acc improved from 0.99397 to 0.99422, saving model to /content/gdrive/My Drive/Colab Notebooks/EVA/Weights/Assign5/GridSearch-33-0.9942.hdf5\n",
            "Epoch 34/50\n",
            "60000/60000 [==============================] - 10s 168us/step - loss: 0.0176 - acc: 0.9942\n",
            "\n",
            "Epoch 00034: acc improved from 0.99422 to 0.99425, saving model to /content/gdrive/My Drive/Colab Notebooks/EVA/Weights/Assign5/GridSearch-34-0.9942.hdf5\n",
            "Epoch 35/50\n",
            "60000/60000 [==============================] - 10s 168us/step - loss: 0.0186 - acc: 0.9937\n",
            "\n",
            "Epoch 00035: acc did not improve from 0.99425\n",
            "Epoch 36/50\n",
            "60000/60000 [==============================] - 10s 168us/step - loss: 0.0175 - acc: 0.9941\n",
            "\n",
            "Epoch 00036: acc did not improve from 0.99425\n",
            "Epoch 37/50\n",
            "60000/60000 [==============================] - 10s 167us/step - loss: 0.0181 - acc: 0.9941\n",
            "\n",
            "Epoch 00037: acc did not improve from 0.99425\n",
            "Epoch 38/50\n",
            "60000/60000 [==============================] - 10s 169us/step - loss: 0.0176 - acc: 0.9943\n",
            "\n",
            "Epoch 00038: acc improved from 0.99425 to 0.99427, saving model to /content/gdrive/My Drive/Colab Notebooks/EVA/Weights/Assign5/GridSearch-38-0.9943.hdf5\n",
            "Epoch 39/50\n",
            "60000/60000 [==============================] - 10s 168us/step - loss: 0.0172 - acc: 0.9943\n",
            "\n",
            "Epoch 00039: acc improved from 0.99427 to 0.99428, saving model to /content/gdrive/My Drive/Colab Notebooks/EVA/Weights/Assign5/GridSearch-39-0.9943.hdf5\n",
            "Epoch 40/50\n",
            "60000/60000 [==============================] - 10s 169us/step - loss: 0.0164 - acc: 0.9946\n",
            "\n",
            "Epoch 00040: acc improved from 0.99428 to 0.99457, saving model to /content/gdrive/My Drive/Colab Notebooks/EVA/Weights/Assign5/GridSearch-40-0.9946.hdf5\n",
            "Epoch 41/50\n",
            "60000/60000 [==============================] - 10s 169us/step - loss: 0.0163 - acc: 0.9949\n",
            "\n",
            "Epoch 00041: acc improved from 0.99457 to 0.99490, saving model to /content/gdrive/My Drive/Colab Notebooks/EVA/Weights/Assign5/GridSearch-41-0.9949.hdf5\n",
            "Epoch 42/50\n",
            "60000/60000 [==============================] - 10s 168us/step - loss: 0.0166 - acc: 0.9945\n",
            "\n",
            "Epoch 00042: acc did not improve from 0.99490\n",
            "Epoch 43/50\n",
            "60000/60000 [==============================] - 10s 168us/step - loss: 0.0160 - acc: 0.9948\n",
            "\n",
            "Epoch 00043: acc did not improve from 0.99490\n",
            "Epoch 44/50\n",
            "60000/60000 [==============================] - 10s 170us/step - loss: 0.0161 - acc: 0.9948\n",
            "\n",
            "Epoch 00044: acc did not improve from 0.99490\n",
            "Epoch 45/50\n",
            "60000/60000 [==============================] - 10s 169us/step - loss: 0.0154 - acc: 0.9950\n",
            "\n",
            "Epoch 00045: acc improved from 0.99490 to 0.99503, saving model to /content/gdrive/My Drive/Colab Notebooks/EVA/Weights/Assign5/GridSearch-45-0.9950.hdf5\n",
            "Epoch 46/50\n",
            "60000/60000 [==============================] - 10s 169us/step - loss: 0.0158 - acc: 0.9946\n",
            "\n",
            "Epoch 00046: acc did not improve from 0.99503\n",
            "Epoch 47/50\n",
            "60000/60000 [==============================] - 10s 168us/step - loss: 0.0156 - acc: 0.9951\n",
            "\n",
            "Epoch 00047: acc improved from 0.99503 to 0.99512, saving model to /content/gdrive/My Drive/Colab Notebooks/EVA/Weights/Assign5/GridSearch-47-0.9951.hdf5\n",
            "Epoch 48/50\n",
            "60000/60000 [==============================] - 10s 169us/step - loss: 0.0155 - acc: 0.9946\n",
            "\n",
            "Epoch 00048: acc did not improve from 0.99512\n",
            "Epoch 49/50\n",
            "60000/60000 [==============================] - 10s 167us/step - loss: 0.0143 - acc: 0.9954\n",
            "\n",
            "Epoch 00049: acc improved from 0.99512 to 0.99545, saving model to /content/gdrive/My Drive/Colab Notebooks/EVA/Weights/Assign5/GridSearch-49-0.9954.hdf5\n",
            "Epoch 50/50\n",
            "60000/60000 [==============================] - 10s 168us/step - loss: 0.0147 - acc: 0.9952\n",
            "\n",
            "Epoch 00050: acc did not improve from 0.99545\n",
            "GridSearchCV took 5162.65 seconds parameter settings.\n",
            "Best score: 0.992283 using {'learn_rate': 0.0007}\n"
          ],
          "name": "stdout"
        }
      ]
    },
    {
      "cell_type": "markdown",
      "metadata": {
        "id": "jokeMUyIWtph",
        "colab_type": "text"
      },
      "source": [
        "#### Image normalisation"
      ]
    },
    {
      "cell_type": "code",
      "metadata": {
        "id": "EC8_F-2ctU5B",
        "colab_type": "code",
        "outputId": "7e31d935-8c90-4eb4-f6c1-30e27e17804a",
        "colab": {
          "base_uri": "https://localhost:8080/",
          "height": 54
        }
      },
      "source": [
        "# Entire dataset mean and standard deviation\n",
        "print('Statistics train=%.3f (%.3f), test=%.3f (%.3f)' % (X_train.mean(), X_train.std(), X_test.mean(), X_test.std()))\n",
        "\n",
        "# Create generator to normalize images\n",
        "# feature-wise is per-dataset, sample-wise is per-image\n",
        "datagen = ImageDataGenerator(featurewise_center=True, featurewise_std_normalization=True)\n",
        "\n",
        "# Calculate mean, var on training dataset, required if featurewise_center/featurewise_std_normalization set to True\n",
        "datagen.fit(X_train)\n",
        "print('Train data generator mean=%.3f, std=%.3f' % (datagen.mean, datagen.std))"
      ],
      "execution_count": 22,
      "outputs": [
        {
          "output_type": "stream",
          "text": [
            "Statistics train=0.131 (0.308), test=0.133 (0.310)\n",
            "Train data generator mean=0.131, std=0.308\n"
          ],
          "name": "stdout"
        }
      ]
    },
    {
      "cell_type": "code",
      "metadata": {
        "id": "BeQt9looB8EN",
        "colab_type": "code",
        "outputId": "31afa405-1eb6-432e-e3e6-640f92ac36d6",
        "colab": {
          "base_uri": "https://localhost:8080/",
          "height": 35
        }
      },
      "source": [
        "batch_size = 128\n",
        "\n",
        "# get batch of the training set\n",
        "train_iterator = datagen.flow(X_train, Y_train, batch_size=batch_size, shuffle=True, seed=42) # default is true\n",
        "batchX, batchy = train_iterator.next()\n",
        "\n",
        "valid_iterator = datagen.flow(X_test, Y_test, batch_size=batch_size, shuffle=True, seed=42)\n",
        "\n",
        "print('Batches train=%d, test=%d' % (len(train_iterator), len(valid_iterator)))"
      ],
      "execution_count": 23,
      "outputs": [
        {
          "output_type": "stream",
          "text": [
            "Batches train=469, test=79\n"
          ],
          "name": "stdout"
        }
      ]
    },
    {
      "cell_type": "markdown",
      "metadata": {
        "id": "RoYsjsa8odyD",
        "colab_type": "text"
      },
      "source": [
        "### Final run for 40 epochs with lambda 0.006 and lr=0.0005"
      ]
    },
    {
      "cell_type": "code",
      "metadata": {
        "colab_type": "code",
        "id": "RMfSDhynccDN",
        "colab": {}
      },
      "source": [
        "def build_model():\n",
        "  model = Sequential()\n",
        "\n",
        "  model.add(Conv2D(16, kernel_size=(3, 3), use_bias=False, input_shape=(28,28,1))) #26\n",
        "  model.add(BatchNormalization())\n",
        "  model.add(Activation('relu'))\n",
        "  model.add(Dropout(0.1))\n",
        "\n",
        "  model.add(Conv2D(32, (3, 3), use_bias=False)) #24\n",
        "  model.add(BatchNormalization())\n",
        "  model.add(Activation('relu'))\n",
        "  model.add(Dropout(0.1))\n",
        "\n",
        "  model.add(Conv2D(10, (1, 1), activation='relu', use_bias=False))\n",
        "  model.add(MaxPooling2D(pool_size=(2, 2)))#12\n",
        "\n",
        "  model.add(Conv2D(16, (3, 3), use_bias=False))#10\n",
        "  model.add(BatchNormalization())\n",
        "  model.add(Activation('relu'))\n",
        "  model.add(Dropout(0.1))\n",
        "\n",
        "  model.add(Conv2D(16, (3, 3), use_bias=False))#8\n",
        "  model.add(BatchNormalization())\n",
        "  model.add(Activation('relu'))\n",
        "  model.add(Dropout(0.1))\n",
        "\n",
        "  model.add(Conv2D(16, (3, 3), use_bias=False))#6\n",
        "  model.add(BatchNormalization())\n",
        "  model.add(Activation('relu'))\n",
        "  model.add(Dropout(0.1))\n",
        "\n",
        "  model.add(Conv2D(16, (3, 3), use_bias=False))#4\n",
        "  model.add(BatchNormalization())\n",
        "  model.add(Activation('relu'))\n",
        "  model.add(Dropout(0.1))\n",
        "\n",
        "  model.add(Conv2D(10, (4, 4))) \n",
        "\n",
        "  model.add(Flatten())\n",
        "  model.add(Activation('softmax'))\n",
        "  \n",
        "  return model"
      ],
      "execution_count": 0,
      "outputs": []
    },
    {
      "cell_type": "markdown",
      "metadata": {
        "id": "m-FPeqHLiY2E",
        "colab_type": "text"
      },
      "source": [
        "#### Best validation accuracy was 99.54% which came at epoch 32, with training accuracy at 99.39%"
      ]
    },
    {
      "cell_type": "code",
      "metadata": {
        "id": "LFCLeb8SLH0c",
        "colab_type": "code",
        "outputId": "2cc8ae39-903c-4eb6-bcf5-0e8d4a19e53d",
        "colab": {
          "base_uri": "https://localhost:8080/",
          "height": 1000
        }
      },
      "source": [
        "custom_model = build_model()\n",
        "#custom_model.summary()\n",
        "custom_model.compile(loss=custom_loss(custom_model, lamda=0.006), optimizer=Adam(lr=0.0005), metrics=['accuracy'])\n",
        "\n",
        "file = dir + \"GridSearch-{epoch:02d}-{val_acc:.4f}.hdf5\"\n",
        "checkpoint = ModelCheckpoint(file, monitor='val_acc', verbose=1, save_best_only=True, mode='max')\n",
        "\n",
        "model_hist = custom_model.fit_generator(train_iterator, steps_per_epoch=len(train_iterator),                     \n",
        "                    validation_data=valid_iterator, validation_steps=len(valid_iterator),\n",
        "                    epochs=40, verbose=1, callbacks=[checkpoint])"
      ],
      "execution_count": 27,
      "outputs": [
        {
          "output_type": "stream",
          "text": [
            "Lambda: 0.006000, Reg. loss: 221.904478\n",
            "Epoch 1/40\n",
            "469/469 [==============================] - 16s 33ms/step - loss: 0.6137 - acc: 0.8188 - val_loss: 0.1550 - val_acc: 0.9576\n",
            "\n",
            "Epoch 00001: val_acc improved from -inf to 0.95760, saving model to /content/gdrive/My Drive/Colab Notebooks/EVA/Weights/Assign5/GridSearch-01-0.9576.hdf5\n",
            "Epoch 2/40\n",
            "469/469 [==============================] - 13s 28ms/step - loss: 0.1418 - acc: 0.9594 - val_loss: 0.0620 - val_acc: 0.9810\n",
            "\n",
            "Epoch 00002: val_acc improved from 0.95760 to 0.98100, saving model to /content/gdrive/My Drive/Colab Notebooks/EVA/Weights/Assign5/GridSearch-02-0.9810.hdf5\n",
            "Epoch 3/40\n",
            "469/469 [==============================] - 13s 27ms/step - loss: 0.0894 - acc: 0.9736 - val_loss: 0.0589 - val_acc: 0.9822\n",
            "\n",
            "Epoch 00003: val_acc improved from 0.98100 to 0.98220, saving model to /content/gdrive/My Drive/Colab Notebooks/EVA/Weights/Assign5/GridSearch-03-0.9822.hdf5\n",
            "Epoch 4/40\n",
            "469/469 [==============================] - 13s 27ms/step - loss: 0.0683 - acc: 0.9795 - val_loss: 0.0380 - val_acc: 0.9887\n",
            "\n",
            "Epoch 00004: val_acc improved from 0.98220 to 0.98870, saving model to /content/gdrive/My Drive/Colab Notebooks/EVA/Weights/Assign5/GridSearch-04-0.9887.hdf5\n",
            "Epoch 5/40\n",
            "469/469 [==============================] - 13s 27ms/step - loss: 0.0570 - acc: 0.9831 - val_loss: 0.0327 - val_acc: 0.9899\n",
            "\n",
            "Epoch 00005: val_acc improved from 0.98870 to 0.98990, saving model to /content/gdrive/My Drive/Colab Notebooks/EVA/Weights/Assign5/GridSearch-05-0.9899.hdf5\n",
            "Epoch 6/40\n",
            "469/469 [==============================] - 13s 27ms/step - loss: 0.0514 - acc: 0.9837 - val_loss: 0.0246 - val_acc: 0.9926\n",
            "\n",
            "Epoch 00006: val_acc improved from 0.98990 to 0.99260, saving model to /content/gdrive/My Drive/Colab Notebooks/EVA/Weights/Assign5/GridSearch-06-0.9926.hdf5\n",
            "Epoch 7/40\n",
            "469/469 [==============================] - 12s 27ms/step - loss: 0.0443 - acc: 0.9861 - val_loss: 0.0256 - val_acc: 0.9920\n",
            "\n",
            "Epoch 00007: val_acc did not improve from 0.99260\n",
            "Epoch 8/40\n",
            "469/469 [==============================] - 12s 27ms/step - loss: 0.0417 - acc: 0.9870 - val_loss: 0.0233 - val_acc: 0.9931\n",
            "\n",
            "Epoch 00008: val_acc improved from 0.99260 to 0.99310, saving model to /content/gdrive/My Drive/Colab Notebooks/EVA/Weights/Assign5/GridSearch-08-0.9931.hdf5\n",
            "Epoch 9/40\n",
            "469/469 [==============================] - 12s 27ms/step - loss: 0.0390 - acc: 0.9877 - val_loss: 0.0265 - val_acc: 0.9916\n",
            "\n",
            "Epoch 00009: val_acc did not improve from 0.99310\n",
            "Epoch 10/40\n",
            "469/469 [==============================] - 12s 26ms/step - loss: 0.0363 - acc: 0.9885 - val_loss: 0.0260 - val_acc: 0.9919\n",
            "\n",
            "Epoch 00010: val_acc did not improve from 0.99310\n",
            "Epoch 11/40\n",
            "469/469 [==============================] - 12s 27ms/step - loss: 0.0345 - acc: 0.9892 - val_loss: 0.0204 - val_acc: 0.9939\n",
            "\n",
            "Epoch 00011: val_acc improved from 0.99310 to 0.99390, saving model to /content/gdrive/My Drive/Colab Notebooks/EVA/Weights/Assign5/GridSearch-11-0.9939.hdf5\n",
            "Epoch 12/40\n",
            "469/469 [==============================] - 12s 27ms/step - loss: 0.0320 - acc: 0.9896 - val_loss: 0.0223 - val_acc: 0.9931\n",
            "\n",
            "Epoch 00012: val_acc did not improve from 0.99390\n",
            "Epoch 13/40\n",
            "469/469 [==============================] - 12s 26ms/step - loss: 0.0326 - acc: 0.9896 - val_loss: 0.0254 - val_acc: 0.9916\n",
            "\n",
            "Epoch 00013: val_acc did not improve from 0.99390\n",
            "Epoch 14/40\n",
            "469/469 [==============================] - 12s 26ms/step - loss: 0.0308 - acc: 0.9904 - val_loss: 0.0202 - val_acc: 0.9937\n",
            "\n",
            "Epoch 00014: val_acc did not improve from 0.99390\n",
            "Epoch 15/40\n",
            "469/469 [==============================] - 13s 27ms/step - loss: 0.0290 - acc: 0.9908 - val_loss: 0.0225 - val_acc: 0.9921\n",
            "\n",
            "Epoch 00015: val_acc did not improve from 0.99390\n",
            "Epoch 16/40\n",
            "469/469 [==============================] - 13s 27ms/step - loss: 0.0279 - acc: 0.9911 - val_loss: 0.0245 - val_acc: 0.9922\n",
            "\n",
            "Epoch 00016: val_acc did not improve from 0.99390\n",
            "Epoch 17/40\n",
            "469/469 [==============================] - 13s 27ms/step - loss: 0.0279 - acc: 0.9911 - val_loss: 0.0203 - val_acc: 0.9945\n",
            "\n",
            "Epoch 00017: val_acc improved from 0.99390 to 0.99450, saving model to /content/gdrive/My Drive/Colab Notebooks/EVA/Weights/Assign5/GridSearch-17-0.9945.hdf5\n",
            "Epoch 18/40\n",
            "469/469 [==============================] - 13s 27ms/step - loss: 0.0256 - acc: 0.9917 - val_loss: 0.0195 - val_acc: 0.9932\n",
            "\n",
            "Epoch 00018: val_acc did not improve from 0.99450\n",
            "Epoch 19/40\n",
            "469/469 [==============================] - 13s 27ms/step - loss: 0.0248 - acc: 0.9915 - val_loss: 0.0208 - val_acc: 0.9936\n",
            "\n",
            "Epoch 00019: val_acc did not improve from 0.99450\n",
            "Epoch 20/40\n",
            "469/469 [==============================] - 12s 27ms/step - loss: 0.0241 - acc: 0.9918 - val_loss: 0.0193 - val_acc: 0.9936\n",
            "\n",
            "Epoch 00020: val_acc did not improve from 0.99450\n",
            "Epoch 21/40\n",
            "469/469 [==============================] - 13s 27ms/step - loss: 0.0249 - acc: 0.9919 - val_loss: 0.0208 - val_acc: 0.9944\n",
            "\n",
            "Epoch 00021: val_acc did not improve from 0.99450\n",
            "Epoch 22/40\n",
            "469/469 [==============================] - 13s 27ms/step - loss: 0.0247 - acc: 0.9916 - val_loss: 0.0230 - val_acc: 0.9928\n",
            "\n",
            "Epoch 00022: val_acc did not improve from 0.99450\n",
            "Epoch 23/40\n",
            "469/469 [==============================] - 12s 26ms/step - loss: 0.0226 - acc: 0.9929 - val_loss: 0.0225 - val_acc: 0.9932\n",
            "\n",
            "Epoch 00023: val_acc did not improve from 0.99450\n",
            "Epoch 24/40\n",
            "469/469 [==============================] - 13s 27ms/step - loss: 0.0219 - acc: 0.9929 - val_loss: 0.0196 - val_acc: 0.9942\n",
            "\n",
            "Epoch 00024: val_acc did not improve from 0.99450\n",
            "Epoch 25/40\n",
            "469/469 [==============================] - 12s 27ms/step - loss: 0.0231 - acc: 0.9922 - val_loss: 0.0191 - val_acc: 0.9946\n",
            "\n",
            "Epoch 00025: val_acc improved from 0.99450 to 0.99460, saving model to /content/gdrive/My Drive/Colab Notebooks/EVA/Weights/Assign5/GridSearch-25-0.9946.hdf5\n",
            "Epoch 26/40\n",
            "469/469 [==============================] - 12s 27ms/step - loss: 0.0212 - acc: 0.9930 - val_loss: 0.0191 - val_acc: 0.9938\n",
            "\n",
            "Epoch 00026: val_acc did not improve from 0.99460\n",
            "Epoch 27/40\n",
            "469/469 [==============================] - 12s 26ms/step - loss: 0.0209 - acc: 0.9929 - val_loss: 0.0263 - val_acc: 0.9922\n",
            "\n",
            "Epoch 00027: val_acc did not improve from 0.99460\n",
            "Epoch 28/40\n",
            "469/469 [==============================] - 12s 27ms/step - loss: 0.0207 - acc: 0.9931 - val_loss: 0.0197 - val_acc: 0.9928\n",
            "\n",
            "Epoch 00028: val_acc did not improve from 0.99460\n",
            "Epoch 29/40\n",
            "469/469 [==============================] - 13s 27ms/step - loss: 0.0197 - acc: 0.9938 - val_loss: 0.0220 - val_acc: 0.9935\n",
            "\n",
            "Epoch 00029: val_acc did not improve from 0.99460\n",
            "Epoch 30/40\n",
            "469/469 [==============================] - 12s 27ms/step - loss: 0.0195 - acc: 0.9935 - val_loss: 0.0205 - val_acc: 0.9943\n",
            "\n",
            "Epoch 00030: val_acc did not improve from 0.99460\n",
            "Epoch 31/40\n",
            "469/469 [==============================] - 12s 27ms/step - loss: 0.0190 - acc: 0.9938 - val_loss: 0.0169 - val_acc: 0.9945\n",
            "\n",
            "Epoch 00031: val_acc did not improve from 0.99460\n",
            "Epoch 32/40\n",
            "469/469 [==============================] - 12s 27ms/step - loss: 0.0192 - acc: 0.9939 - val_loss: 0.0169 - val_acc: 0.9954\n",
            "\n",
            "Epoch 00032: val_acc improved from 0.99460 to 0.99540, saving model to /content/gdrive/My Drive/Colab Notebooks/EVA/Weights/Assign5/GridSearch-32-0.9954.hdf5\n",
            "Epoch 33/40\n",
            "469/469 [==============================] - 12s 26ms/step - loss: 0.0186 - acc: 0.9937 - val_loss: 0.0204 - val_acc: 0.9940\n",
            "\n",
            "Epoch 00033: val_acc did not improve from 0.99540\n",
            "Epoch 34/40\n",
            "469/469 [==============================] - 12s 26ms/step - loss: 0.0183 - acc: 0.9938 - val_loss: 0.0216 - val_acc: 0.9936\n",
            "\n",
            "Epoch 00034: val_acc did not improve from 0.99540\n",
            "Epoch 35/40\n",
            "469/469 [==============================] - 12s 26ms/step - loss: 0.0171 - acc: 0.9944 - val_loss: 0.0256 - val_acc: 0.9928\n",
            "\n",
            "Epoch 00035: val_acc did not improve from 0.99540\n",
            "Epoch 36/40\n",
            "469/469 [==============================] - 13s 27ms/step - loss: 0.0180 - acc: 0.9941 - val_loss: 0.0188 - val_acc: 0.9938\n",
            "\n",
            "Epoch 00036: val_acc did not improve from 0.99540\n",
            "Epoch 37/40\n",
            "469/469 [==============================] - 12s 27ms/step - loss: 0.0168 - acc: 0.9946 - val_loss: 0.0184 - val_acc: 0.9943\n",
            "\n",
            "Epoch 00037: val_acc did not improve from 0.99540\n",
            "Epoch 38/40\n",
            "469/469 [==============================] - 12s 26ms/step - loss: 0.0180 - acc: 0.9941 - val_loss: 0.0183 - val_acc: 0.9949\n",
            "\n",
            "Epoch 00038: val_acc did not improve from 0.99540\n",
            "Epoch 39/40\n",
            "469/469 [==============================] - 12s 26ms/step - loss: 0.0182 - acc: 0.9940 - val_loss: 0.0241 - val_acc: 0.9929\n",
            "\n",
            "Epoch 00039: val_acc did not improve from 0.99540\n",
            "Epoch 40/40\n",
            "469/469 [==============================] - 13s 27ms/step - loss: 0.0171 - acc: 0.9941 - val_loss: 0.0180 - val_acc: 0.9945\n",
            "\n",
            "Epoch 00040: val_acc did not improve from 0.99540\n"
          ],
          "name": "stdout"
        }
      ]
    },
    {
      "cell_type": "code",
      "metadata": {
        "id": "hE9CpK5YkuX9",
        "colab_type": "code",
        "colab": {
          "base_uri": "https://localhost:8080/",
          "height": 295
        },
        "outputId": "7a216849-51e0-481c-a042-7ed9f5cb6914"
      },
      "source": [
        "def plot_model_history(model_history):\n",
        "    fig, axs = plt.subplots(1,2,figsize=(10,4))\n",
        "    # Set axis properties [xmin, xmax, ymin, ymax]\n",
        "    axs[0].axis([0,40,0.95,1])\n",
        "    \n",
        "    # Plot training & validation accuracy values    \n",
        "    axs[0].plot(range(1,len(model_history.history['acc'])+1),model_history.history['acc'])\n",
        "    axs[0].plot(range(1,len(model_history.history['val_acc'])+1),model_history.history['val_acc'])\n",
        "    axs[0].set_title('Model Accuracy')\n",
        "    axs[0].set_ylabel('Accuracy')\n",
        "    axs[0].set_xlabel('Epoch')\n",
        "    axs[0].set_xticks(np.arange(1,len(model_history.history['acc'])+1),len(model_history.history['acc'])/10)\n",
        "    axs[0].legend(['train', 'val'], loc='best')\n",
        "    \n",
        "    \n",
        "    # Plot training & validation loss values\n",
        "    axs[1].plot(range(1,len(model_history.history['loss'])+1),model_history.history['loss'])\n",
        "    axs[1].plot(range(1,len(model_history.history['val_loss'])+1),model_history.history['val_loss'])\n",
        "    axs[1].set_title('Model Loss')\n",
        "    axs[1].set_ylabel('Loss')\n",
        "    axs[1].set_xlabel('Epoch')\n",
        "    #axs[1].set_xticks(np.arange(1,len(model_history.history['loss'])+1),len(model_history.history['loss'])/10)\n",
        "    axs[1].legend(['train', 'val'], loc='best')\n",
        "    plt.show()\n",
        "    \n",
        "plot_model_history(model_hist)"
      ],
      "execution_count": 33,
      "outputs": [
        {
          "output_type": "display_data",
          "data": {
            "image/png": "[encoded data removed]",
            "text/plain": [
              "<Figure size 720x288 with 2 Axes>"
            ]
          },
          "metadata": {
            "tags": []
          }
        }
      ]
    },
    {
      "cell_type": "code",
      "metadata": {
        "id": "GiouEcC5ZY_R",
        "colab_type": "code",
        "outputId": "cca21817-f27b-43d4-8636-0d3deec0dd30",
        "colab": {
          "base_uri": "https://localhost:8080/",
          "height": 90
        }
      },
      "source": [
        "custom_model = build_model()\n",
        "custom_model.compile(loss=custom_loss(custom_model, lamda=0.006), optimizer=Adam(lr=0.0005), metrics=['accuracy'])\n",
        "\n",
        "custom_model.load_weights(dir + \"GridSearch-32-0.9954.hdf5\")\n",
        "print(\"Loaded model from disk \")\n",
        "\n",
        "custom_model.evaluate_generator(generator=valid_iterator, steps=len(valid_iterator),verbose=1)"
      ],
      "execution_count": 29,
      "outputs": [
        {
          "output_type": "stream",
          "text": [
            "Lambda: 0.006000, Reg. loss: 223.439027\n",
            "Loaded model from disk \n",
            "79/79 [==============================] - 1s 16ms/step\n"
          ],
          "name": "stdout"
        },
        {
          "output_type": "execute_result",
          "data": {
            "text/plain": [
              "[0.016863743467372842, 0.9954]"
            ]
          },
          "metadata": {
            "tags": []
          },
          "execution_count": 29
        }
      ]
    }
  ]
}